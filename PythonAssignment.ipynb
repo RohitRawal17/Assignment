{
 "cells": [
  {
   "cell_type": "code",
   "execution_count": null,
   "id": "54da8eb5-33a3-4f1d-bd35-970cd29eca1e",
   "metadata": {},
   "outputs": [],
   "source": [
    "#.Explain the key features of python that makes it a popular choice for programming\n",
    "'''\n",
    "The key feature of python that make it popular choice for programming are as below\n",
    "Python is free and open source\n",
    "Easy to code,python code is easy to learn as compared to other language\n",
    "Python is object oriented language ,pythons support object-oriented languages and concepts like classes,object encapsulation,etc.\n",
    "Python has large community support\n",
    "It is a high level language,when we write we do not need to remember the system architecture nor we need to manage the memory.\n",
    "Python is integrated and interpreted language\n",
    "Large standard library,Dynamically Typed Language \n",
    "'''"
   ]
  },
  {
   "cell_type": "code",
   "execution_count": null,
   "id": "bd0c6995-c0b6-43d7-aa70-79132671ed5b",
   "metadata": {},
   "outputs": [],
   "source": [
    "#Describe the role of predefined keywords in python and provide examples of how they are used in a program.\n",
    "'''\n",
    "Predefined keywords are reserved words that have special meanings and purpose within the language,\n",
    "keywords cannot be used as identifiers (such as variable names,functions names,or class names)\n",
    "because they are integral to the language’s syntax and structures.\n",
    "'''\n",
    "#Examples\n",
    "#Boolean Function (True and False)\n",
    "f = False if not f: \n",
    "   print(\"F is False\")\n"
   ]
  }
 ],
 "metadata": {
  "kernelspec": {
   "display_name": "Python 3 (ipykernel)",
   "language": "python",
   "name": "python3"
  },
  "language_info": {
   "codemirror_mode": {
    "name": "ipython",
    "version": 3
   },
   "file_extension": ".py",
   "mimetype": "text/x-python",
   "name": "python",
   "nbconvert_exporter": "python",
   "pygments_lexer": "ipython3",
   "version": "3.10.8"
  }
 },
 "nbformat": 4,
 "nbformat_minor": 5
}
